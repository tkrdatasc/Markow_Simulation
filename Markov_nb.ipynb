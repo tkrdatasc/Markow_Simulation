{
 "cells": [
  {
   "cell_type": "code",
   "execution_count": 2,
   "metadata": {},
   "outputs": [],
   "source": [
    "# -*- coding: utf-8 -*-\n",
    "\"\"\"\n",
    "Created on Mon Jun  7 11:40:56 2021\n",
    "\n",
    "@author: Thomas\n",
    "\"\"\"\n",
    "# %%\n",
    "import os\n",
    "import numpy as np\n",
    "import pandas as pd\n",
    "import matplotlib.pyplot as plt\n",
    "import seaborn as sns\n",
    "import calendar\n",
    "import glob"
   ]
  },
  {
   "cell_type": "code",
   "execution_count": 3,
   "metadata": {},
   "outputs": [
    {
     "name": "stdout",
     "output_type": "stream",
     "text": [
      "./data/tuesday.csv\n",
      "./data/monday.csv\n",
      "./data/thursday.csv\n",
      "./data/wednesday.csv\n",
      "./data/friday.csv\n"
     ]
    }
   ],
   "source": [
    "#os.chdir('G:/spiced')\n",
    "# %%\n",
    "df = pd.DataFrame()\n",
    "\n",
    "## import data into dataframe\n",
    "for file in glob.glob('./data/'+'*.csv'):\n",
    "    print(file)\n",
    "    dummy = pd.read_csv(file, sep=';', parse_dates=['timestamp'], index_col=['timestamp'])\n",
    "    df = df.append(dummy)"
   ]
  },
  {
   "cell_type": "code",
   "execution_count": 4,
   "metadata": {},
   "outputs": [
    {
     "data": {
      "text/html": [
       "<div>\n",
       "<style scoped>\n",
       "    .dataframe tbody tr th:only-of-type {\n",
       "        vertical-align: middle;\n",
       "    }\n",
       "\n",
       "    .dataframe tbody tr th {\n",
       "        vertical-align: top;\n",
       "    }\n",
       "\n",
       "    .dataframe thead th {\n",
       "        text-align: right;\n",
       "    }\n",
       "</style>\n",
       "<table border=\"1\" class=\"dataframe\">\n",
       "  <thead>\n",
       "    <tr style=\"text-align: right;\">\n",
       "      <th></th>\n",
       "      <th>customer_no</th>\n",
       "      <th>location</th>\n",
       "    </tr>\n",
       "    <tr>\n",
       "      <th>timestamp</th>\n",
       "      <th></th>\n",
       "      <th></th>\n",
       "    </tr>\n",
       "  </thead>\n",
       "  <tbody>\n",
       "    <tr>\n",
       "      <th>2019-09-02 07:03:00</th>\n",
       "      <td>2</td>\n",
       "      <td>dairy</td>\n",
       "    </tr>\n",
       "    <tr>\n",
       "      <th>2019-09-02 07:03:00</th>\n",
       "      <td>1</td>\n",
       "      <td>dairy</td>\n",
       "    </tr>\n",
       "    <tr>\n",
       "      <th>2019-09-02 07:04:00</th>\n",
       "      <td>3</td>\n",
       "      <td>dairy</td>\n",
       "    </tr>\n",
       "    <tr>\n",
       "      <th>2019-09-02 07:04:00</th>\n",
       "      <td>8</td>\n",
       "      <td>fruit</td>\n",
       "    </tr>\n",
       "    <tr>\n",
       "      <th>2019-09-02 07:04:00</th>\n",
       "      <td>4</td>\n",
       "      <td>dairy</td>\n",
       "    </tr>\n",
       "  </tbody>\n",
       "</table>\n",
       "</div>"
      ],
      "text/plain": [
       "                     customer_no location\n",
       "timestamp                                \n",
       "2019-09-02 07:03:00            2    dairy\n",
       "2019-09-02 07:03:00            1    dairy\n",
       "2019-09-02 07:04:00            3    dairy\n",
       "2019-09-02 07:04:00            8    fruit\n",
       "2019-09-02 07:04:00            4    dairy"
      ]
     },
     "execution_count": 4,
     "metadata": {},
     "output_type": "execute_result"
    }
   ],
   "source": [
    "df = df.sort_index()\n",
    "df.head()"
   ]
  },
  {
   "cell_type": "code",
   "execution_count": 5,
   "metadata": {},
   "outputs": [
    {
     "data": {
      "text/html": [
       "<div>\n",
       "<style scoped>\n",
       "    .dataframe tbody tr th:only-of-type {\n",
       "        vertical-align: middle;\n",
       "    }\n",
       "\n",
       "    .dataframe tbody tr th {\n",
       "        vertical-align: top;\n",
       "    }\n",
       "\n",
       "    .dataframe thead th {\n",
       "        text-align: right;\n",
       "    }\n",
       "</style>\n",
       "<table border=\"1\" class=\"dataframe\">\n",
       "  <thead>\n",
       "    <tr style=\"text-align: right;\">\n",
       "      <th></th>\n",
       "      <th>customer_no</th>\n",
       "      <th>location</th>\n",
       "      <th>weekday</th>\n",
       "    </tr>\n",
       "    <tr>\n",
       "      <th>timestamp</th>\n",
       "      <th></th>\n",
       "      <th></th>\n",
       "      <th></th>\n",
       "    </tr>\n",
       "  </thead>\n",
       "  <tbody>\n",
       "    <tr>\n",
       "      <th>2019-09-02 07:03:00</th>\n",
       "      <td>2</td>\n",
       "      <td>dairy</td>\n",
       "      <td>Monday</td>\n",
       "    </tr>\n",
       "    <tr>\n",
       "      <th>2019-09-02 07:03:00</th>\n",
       "      <td>1</td>\n",
       "      <td>dairy</td>\n",
       "      <td>Monday</td>\n",
       "    </tr>\n",
       "    <tr>\n",
       "      <th>2019-09-02 07:04:00</th>\n",
       "      <td>3</td>\n",
       "      <td>dairy</td>\n",
       "      <td>Monday</td>\n",
       "    </tr>\n",
       "    <tr>\n",
       "      <th>2019-09-02 07:04:00</th>\n",
       "      <td>8</td>\n",
       "      <td>fruit</td>\n",
       "      <td>Monday</td>\n",
       "    </tr>\n",
       "    <tr>\n",
       "      <th>2019-09-02 07:04:00</th>\n",
       "      <td>4</td>\n",
       "      <td>dairy</td>\n",
       "      <td>Monday</td>\n",
       "    </tr>\n",
       "  </tbody>\n",
       "</table>\n",
       "</div>"
      ],
      "text/plain": [
       "                     customer_no location weekday\n",
       "timestamp                                        \n",
       "2019-09-02 07:03:00            2    dairy  Monday\n",
       "2019-09-02 07:03:00            1    dairy  Monday\n",
       "2019-09-02 07:04:00            3    dairy  Monday\n",
       "2019-09-02 07:04:00            8    fruit  Monday\n",
       "2019-09-02 07:04:00            4    dairy  Monday"
      ]
     },
     "execution_count": 5,
     "metadata": {},
     "output_type": "execute_result"
    }
   ],
   "source": [
    "# add weekday column, and replace it with day_name\n",
    "\n",
    "df['weekday'] = df.index.dayofweek\n",
    "df['weekday'] = df['weekday'].apply(lambda x: calendar.day_name[x])\n",
    "df.head()"
   ]
  },
  {
   "cell_type": "code",
   "execution_count": 6,
   "metadata": {},
   "outputs": [
    {
     "name": "stdout",
     "output_type": "stream",
     "text": [
      "checkout    7417\n",
      "fruit       5122\n",
      "dairy       4679\n",
      "drinks      3905\n",
      "spices      3754\n",
      "Name: location, dtype: int64\n",
      "24877\n"
     ]
    }
   ],
   "source": [
    "# %%\n",
    "df['location'].value_counts()\n",
    "print(df['location'].value_counts())\n",
    "df['customer_no'].value_counts().sum()\n",
    "print(df['customer_no'].value_counts().sum())"
   ]
  },
  {
   "cell_type": "code",
   "execution_count": 7,
   "metadata": {},
   "outputs": [],
   "source": [
    "# Calculate the total number of customers in each section"
   ]
  },
  {
   "cell_type": "code",
   "execution_count": 8,
   "metadata": {
    "scrolled": true
   },
   "outputs": [
    {
     "data": {
      "text/plain": [
       "location  timestamp          \n",
       "checkout  2019-09-02 07:00:00     92\n",
       "          2019-09-02 08:00:00    112\n",
       "          2019-09-02 09:00:00     85\n",
       "          2019-09-02 10:00:00     90\n",
       "          2019-09-02 11:00:00     55\n",
       "                                ... \n",
       "spices    2019-09-06 17:00:00     65\n",
       "          2019-09-06 18:00:00     98\n",
       "          2019-09-06 19:00:00     65\n",
       "          2019-09-06 20:00:00     54\n",
       "          2019-09-06 21:00:00     20\n",
       "Name: customer_no, Length: 555, dtype: int64"
      ]
     },
     "execution_count": 8,
     "metadata": {},
     "output_type": "execute_result"
    }
   ],
   "source": [
    "# Calculate the total number of customers in each section over time\n",
    "df.groupby('location').resample('H')['customer_no'].count()"
   ]
  },
  {
   "cell_type": "code",
   "execution_count": 9,
   "metadata": {},
   "outputs": [],
   "source": [
    "# %%\n",
    "# Display the number of customers at checkout over time"
   ]
  },
  {
   "cell_type": "code",
   "execution_count": 10,
   "metadata": {},
   "outputs": [
    {
     "data": {
      "text/html": [
       "<div>\n",
       "<style scoped>\n",
       "    .dataframe tbody tr th:only-of-type {\n",
       "        vertical-align: middle;\n",
       "    }\n",
       "\n",
       "    .dataframe tbody tr th {\n",
       "        vertical-align: top;\n",
       "    }\n",
       "\n",
       "    .dataframe thead tr th {\n",
       "        text-align: left;\n",
       "    }\n",
       "</style>\n",
       "<table border=\"1\" class=\"dataframe\">\n",
       "  <thead>\n",
       "    <tr>\n",
       "      <th></th>\n",
       "      <th>weekday</th>\n",
       "      <th>customer_no</th>\n",
       "      <th colspan=\"2\" halign=\"left\">timestamp</th>\n",
       "      <th>spent</th>\n",
       "    </tr>\n",
       "    <tr>\n",
       "      <th></th>\n",
       "      <th></th>\n",
       "      <th></th>\n",
       "      <th>min</th>\n",
       "      <th>max</th>\n",
       "      <th></th>\n",
       "    </tr>\n",
       "  </thead>\n",
       "  <tbody>\n",
       "    <tr>\n",
       "      <th>0</th>\n",
       "      <td>Friday</td>\n",
       "      <td>1</td>\n",
       "      <td>2019-09-06 07:00:00</td>\n",
       "      <td>2019-09-06 07:05:00</td>\n",
       "      <td>0 days 00:05:00</td>\n",
       "    </tr>\n",
       "    <tr>\n",
       "      <th>1</th>\n",
       "      <td>Friday</td>\n",
       "      <td>2</td>\n",
       "      <td>2019-09-06 07:00:00</td>\n",
       "      <td>2019-09-06 07:01:00</td>\n",
       "      <td>0 days 00:01:00</td>\n",
       "    </tr>\n",
       "    <tr>\n",
       "      <th>2</th>\n",
       "      <td>Friday</td>\n",
       "      <td>3</td>\n",
       "      <td>2019-09-06 07:00:00</td>\n",
       "      <td>2019-09-06 07:11:00</td>\n",
       "      <td>0 days 00:11:00</td>\n",
       "    </tr>\n",
       "    <tr>\n",
       "      <th>3</th>\n",
       "      <td>Friday</td>\n",
       "      <td>4</td>\n",
       "      <td>2019-09-06 07:01:00</td>\n",
       "      <td>2019-09-06 07:02:00</td>\n",
       "      <td>0 days 00:01:00</td>\n",
       "    </tr>\n",
       "    <tr>\n",
       "      <th>4</th>\n",
       "      <td>Friday</td>\n",
       "      <td>5</td>\n",
       "      <td>2019-09-06 07:01:00</td>\n",
       "      <td>2019-09-06 07:15:00</td>\n",
       "      <td>0 days 00:14:00</td>\n",
       "    </tr>\n",
       "  </tbody>\n",
       "</table>\n",
       "</div>"
      ],
      "text/plain": [
       "  weekday customer_no           timestamp                               spent\n",
       "                                      min                 max                \n",
       "0  Friday           1 2019-09-06 07:00:00 2019-09-06 07:05:00 0 days 00:05:00\n",
       "1  Friday           2 2019-09-06 07:00:00 2019-09-06 07:01:00 0 days 00:01:00\n",
       "2  Friday           3 2019-09-06 07:00:00 2019-09-06 07:11:00 0 days 00:11:00\n",
       "3  Friday           4 2019-09-06 07:01:00 2019-09-06 07:02:00 0 days 00:01:00\n",
       "4  Friday           5 2019-09-06 07:01:00 2019-09-06 07:15:00 0 days 00:14:00"
      ]
     },
     "execution_count": 10,
     "metadata": {},
     "output_type": "execute_result"
    }
   ],
   "source": [
    "# %%\n",
    "# Calculate the time each customer spent in the market\n",
    "\n",
    "df['timestamp'] = df.index\n",
    "time_spent = df.groupby(['weekday','customer_no'], as_index=False).agg({'timestamp':['min', 'max']})\n",
    "time_spent['spent'] = time_spent['timestamp', 'max'] - time_spent['timestamp', 'min']\n",
    "time_spent.head()\n",
    "# extract integer (minutes)?"
   ]
  },
  {
   "cell_type": "code",
   "execution_count": 11,
   "metadata": {},
   "outputs": [
    {
     "data": {
      "text/html": [
       "<div>\n",
       "<style scoped>\n",
       "    .dataframe tbody tr th:only-of-type {\n",
       "        vertical-align: middle;\n",
       "    }\n",
       "\n",
       "    .dataframe tbody tr th {\n",
       "        vertical-align: top;\n",
       "    }\n",
       "\n",
       "    .dataframe thead th {\n",
       "        text-align: right;\n",
       "    }\n",
       "</style>\n",
       "<table border=\"1\" class=\"dataframe\">\n",
       "  <thead>\n",
       "    <tr style=\"text-align: right;\">\n",
       "      <th></th>\n",
       "      <th></th>\n",
       "      <th>customer_no</th>\n",
       "      <th>location</th>\n",
       "      <th>weekday</th>\n",
       "      <th>timestamp</th>\n",
       "    </tr>\n",
       "    <tr>\n",
       "      <th></th>\n",
       "      <th>timestamp</th>\n",
       "      <th></th>\n",
       "      <th></th>\n",
       "      <th></th>\n",
       "      <th></th>\n",
       "    </tr>\n",
       "  </thead>\n",
       "  <tbody>\n",
       "    <tr>\n",
       "      <th rowspan=\"5\" valign=\"top\">0</th>\n",
       "      <th>2019-09-06 07:00:00</th>\n",
       "      <td>1</td>\n",
       "      <td>dairy</td>\n",
       "      <td>Friday</td>\n",
       "      <td>2019-09-06 07:00:00</td>\n",
       "    </tr>\n",
       "    <tr>\n",
       "      <th>2019-09-06 07:01:00</th>\n",
       "      <td>1</td>\n",
       "      <td>dairy</td>\n",
       "      <td>Friday</td>\n",
       "      <td>2019-09-06 07:00:00</td>\n",
       "    </tr>\n",
       "    <tr>\n",
       "      <th>2019-09-06 07:02:00</th>\n",
       "      <td>1</td>\n",
       "      <td>dairy</td>\n",
       "      <td>Friday</td>\n",
       "      <td>2019-09-06 07:00:00</td>\n",
       "    </tr>\n",
       "    <tr>\n",
       "      <th>2019-09-06 07:03:00</th>\n",
       "      <td>1</td>\n",
       "      <td>dairy</td>\n",
       "      <td>Friday</td>\n",
       "      <td>2019-09-06 07:00:00</td>\n",
       "    </tr>\n",
       "    <tr>\n",
       "      <th>2019-09-06 07:04:00</th>\n",
       "      <td>1</td>\n",
       "      <td>spices</td>\n",
       "      <td>Friday</td>\n",
       "      <td>2019-09-06 07:04:00</td>\n",
       "    </tr>\n",
       "  </tbody>\n",
       "</table>\n",
       "</div>"
      ],
      "text/plain": [
       "                       customer_no location weekday           timestamp\n",
       "  timestamp                                                            \n",
       "0 2019-09-06 07:00:00            1    dairy  Friday 2019-09-06 07:00:00\n",
       "  2019-09-06 07:01:00            1    dairy  Friday 2019-09-06 07:00:00\n",
       "  2019-09-06 07:02:00            1    dairy  Friday 2019-09-06 07:00:00\n",
       "  2019-09-06 07:03:00            1    dairy  Friday 2019-09-06 07:00:00\n",
       "  2019-09-06 07:04:00            1   spices  Friday 2019-09-06 07:04:00"
      ]
     },
     "execution_count": 11,
     "metadata": {},
     "output_type": "execute_result"
    }
   ],
   "source": [
    "# %%\n",
    "# Calculate the total number of customers in the supermarket over time\n",
    "# forward fill to fill out the timestamps\n",
    "\n",
    "df2 = df.groupby(['weekday','customer_no'], as_index=False).resample('1Min').ffill()\n",
    "df2.head()"
   ]
  },
  {
   "cell_type": "code",
   "execution_count": 12,
   "metadata": {},
   "outputs": [
    {
     "name": "stderr",
     "output_type": "stream",
     "text": [
      "<ipython-input-12-138cc630f976>:3: SettingWithCopyWarning: \n",
      "A value is trying to be set on a copy of a slice from a DataFrame.\n",
      "Try using .loc[row_indexer,col_indexer] = value instead\n",
      "\n",
      "See the caveats in the documentation: https://pandas.pydata.org/pandas-docs/stable/user_guide/indexing.html#returning-a-view-versus-a-copy\n",
      "  df2_friday['datetime'] = df2_friday.index.get_level_values(1)\n"
     ]
    },
    {
     "data": {
      "text/plain": [
       "Text(0.5, 1.0, 'the total number of customers in the supermarket on Friday over time')"
      ]
     },
     "execution_count": 12,
     "metadata": {},
     "output_type": "execute_result"
    },
    {
     "data": {
      "image/png": "[encoded data removed]",
      "text/plain": [
       "<Figure size 432x288 with 1 Axes>"
      ]
     },
     "metadata": {
      "needs_background": "light"
     },
     "output_type": "display_data"
    }
   ],
   "source": [
    "# %%\n",
    "df2_friday = df2[df2['weekday']=='Friday']\n",
    "df2_friday['datetime'] = df2_friday.index.get_level_values(1)\n",
    "df2_friday.groupby(['datetime']).count().plot(y='customer_no')\n",
    "plt.title('the total number of customers in the supermarket on Friday over time')"
   ]
  },
  {
   "cell_type": "code",
   "execution_count": 13,
   "metadata": {},
   "outputs": [],
   "source": [
    "# %%\n",
    "df3 =df.groupby(['weekday','customer_no'], as_index=False).agg({'timestamp':['min']})"
   ]
  },
  {
   "cell_type": "code",
   "execution_count": 14,
   "metadata": {},
   "outputs": [],
   "source": [
    "# get the next location of the custoners\n",
    "\n",
    "df2['next_location']=df2.groupby(['weekday','customer_no'])['location'].shift(-1)"
   ]
  },
  {
   "cell_type": "code",
   "execution_count": 31,
   "metadata": {},
   "outputs": [
    {
     "data": {
      "text/plain": [
       "location\n",
       "fruit     0.377435\n",
       "dairy     0.287576\n",
       "spices    0.181464\n",
       "drinks    0.153526\n",
       "dtype: float64"
      ]
     },
     "execution_count": 31,
     "metadata": {},
     "output_type": "execute_result"
    }
   ],
   "source": [
    "# Calculate the total number of customers in each section in the begining of the day\n",
    "\n",
    "vector_base = df2.groupby(['weekday','customer_no']).first().value_counts('location', normalize=True)\n",
    "#vector_base['checkout'] = 0.0\n",
    "vector_base"
   ]
  },
  {
   "cell_type": "code",
   "execution_count": 16,
   "metadata": {},
   "outputs": [],
   "source": [
    "# %%\n",
    "#last_stations = df.groupby(['weekday','customer_no'], as_index=False).last()\n",
    "#no_checkout = last_stations[last_stations['location']!='checkout']\n",
    "\n",
    "# %%\n",
    "#row_filter = df['customer_no'].isin(no_checkout['customer_no']) & df['weekday'].isin(no_checkout['weekday'])"
   ]
  },
  {
   "cell_type": "code",
   "execution_count": 17,
   "metadata": {},
   "outputs": [
    {
     "data": {
      "text/html": [
       "<div>\n",
       "<style scoped>\n",
       "    .dataframe tbody tr th:only-of-type {\n",
       "        vertical-align: middle;\n",
       "    }\n",
       "\n",
       "    .dataframe tbody tr th {\n",
       "        vertical-align: top;\n",
       "    }\n",
       "\n",
       "    .dataframe thead th {\n",
       "        text-align: right;\n",
       "    }\n",
       "</style>\n",
       "<table border=\"1\" class=\"dataframe\">\n",
       "  <thead>\n",
       "    <tr style=\"text-align: right;\">\n",
       "      <th>next_location</th>\n",
       "      <th>checkout</th>\n",
       "      <th>dairy</th>\n",
       "      <th>drinks</th>\n",
       "      <th>fruit</th>\n",
       "      <th>spices</th>\n",
       "    </tr>\n",
       "    <tr>\n",
       "      <th>location</th>\n",
       "      <th></th>\n",
       "      <th></th>\n",
       "      <th></th>\n",
       "      <th></th>\n",
       "      <th></th>\n",
       "    </tr>\n",
       "  </thead>\n",
       "  <tbody>\n",
       "    <tr>\n",
       "      <th>checkout</th>\n",
       "      <td>1.000000</td>\n",
       "      <td>0.000000</td>\n",
       "      <td>0.000000</td>\n",
       "      <td>0.000000</td>\n",
       "      <td>0.000000</td>\n",
       "    </tr>\n",
       "    <tr>\n",
       "      <th>dairy</th>\n",
       "      <td>0.103466</td>\n",
       "      <td>0.736750</td>\n",
       "      <td>0.058569</td>\n",
       "      <td>0.049848</td>\n",
       "      <td>0.051367</td>\n",
       "    </tr>\n",
       "    <tr>\n",
       "      <th>drinks</th>\n",
       "      <td>0.215710</td>\n",
       "      <td>0.010899</td>\n",
       "      <td>0.598499</td>\n",
       "      <td>0.087909</td>\n",
       "      <td>0.086983</td>\n",
       "    </tr>\n",
       "    <tr>\n",
       "      <th>fruit</th>\n",
       "      <td>0.201605</td>\n",
       "      <td>0.095924</td>\n",
       "      <td>0.054847</td>\n",
       "      <td>0.596947</td>\n",
       "      <td>0.050677</td>\n",
       "    </tr>\n",
       "    <tr>\n",
       "      <th>spices</th>\n",
       "      <td>0.150685</td>\n",
       "      <td>0.193214</td>\n",
       "      <td>0.163109</td>\n",
       "      <td>0.090953</td>\n",
       "      <td>0.402039</td>\n",
       "    </tr>\n",
       "  </tbody>\n",
       "</table>\n",
       "</div>"
      ],
      "text/plain": [
       "next_location  checkout     dairy    drinks     fruit    spices\n",
       "location                                                       \n",
       "checkout       1.000000  0.000000  0.000000  0.000000  0.000000\n",
       "dairy          0.103466  0.736750  0.058569  0.049848  0.051367\n",
       "drinks         0.215710  0.010899  0.598499  0.087909  0.086983\n",
       "fruit          0.201605  0.095924  0.054847  0.596947  0.050677\n",
       "spices         0.150685  0.193214  0.163109  0.090953  0.402039"
      ]
     },
     "execution_count": 17,
     "metadata": {},
     "output_type": "execute_result"
    }
   ],
   "source": [
    "df2.fillna('checkout', inplace=True)\n",
    "P = pd.crosstab(df2['location'], df2['next_location'], normalize='index')\n",
    "P"
   ]
  },
  {
   "cell_type": "code",
   "execution_count": 18,
   "metadata": {},
   "outputs": [],
   "source": [
    "# all rows have to sum up to one\n",
    "assert all(P.sum(axis=1) > 0.999)"
   ]
  },
  {
   "cell_type": "code",
   "execution_count": 19,
   "metadata": {},
   "outputs": [
    {
     "data": {
      "text/plain": [
       "location\n",
       "fruit       0.377435\n",
       "dairy       0.287576\n",
       "spices      0.181464\n",
       "drinks      0.153526\n",
       "checkout    0.000000\n",
       "dtype: float64"
      ]
     },
     "execution_count": 19,
     "metadata": {},
     "output_type": "execute_result"
    }
   ],
   "source": [
    "vector_base"
   ]
  },
  {
   "cell_type": "code",
   "execution_count": 32,
   "metadata": {},
   "outputs": [
    {
     "data": {
      "text/plain": [
       "array([38., 29., 18., 15.])"
      ]
     },
     "execution_count": 32,
     "metadata": {},
     "output_type": "execute_result"
    }
   ],
   "source": [
    "initial = (vector_base*100).round(0)\n",
    "initial = np.array(initial)\n",
    "initial"
   ]
  },
  {
   "cell_type": "code",
   "execution_count": 29,
   "metadata": {},
   "outputs": [
    {
     "name": "stdout",
     "output_type": "stream",
     "text": [
      "0 [16.07647068 32.93741669 23.01596883 16.55291026 11.41723355]\n",
      "1 [29.50670943 28.31128672 18.47427259 14.58480446  9.1229268 ]\n",
      "2 [40.73611283 24.22140446 15.00295806 12.57141863  7.46810603]\n",
      "3 [50.13828888 20.65748302 12.3054957  10.70999267  6.18873973]\n",
      "4 [58.02179578 17.57661707 10.17156253  9.0676737   5.16235092]\n",
      "5 [64.64046537 14.92768059  8.45647329  7.6527774   4.32260336]\n",
      "6 [70.20331022 12.65941011  7.06027565  6.44896671  3.62803732]\n",
      "7 [74.88293711 10.72337021  5.91248732  5.43137634  3.04982901]\n",
      "8 [78.82238137  9.07515358  4.96202272  4.57393105  2.56651129]\n",
      "9 [82.14057232  7.67483733  4.17077463  3.85240828  2.16140744]\n",
      "10 [84.93669217  6.48704726  3.50954905  3.24549167  1.82121985]\n",
      "11 [87.29366443  5.48078921  2.95546346  2.73491726  1.53516564]\n",
      "12 [89.28096284  4.62914346  2.4902469   2.30524516  1.29440164]\n",
      "13 [90.95688933  3.90888811  2.09909832  1.94350618  1.09161806]\n",
      "14 [92.37043431  3.30009669  1.76989562  1.63883485  0.92073853]\n",
      "15 [93.56280545  2.78573993  1.49262961  1.38213347  0.77669153]\n",
      "16 [94.56869104  2.35130988  1.25898622  1.16578117  0.65523168]\n",
      "17 [95.41730875  1.98447589  1.06202934  0.98338848  0.55279754]\n",
      "18 [96.13327943  1.67477671  0.89595417  0.8295929   0.46639678]\n",
      "19 [96.73735741  1.41334923  0.75589165  0.69988939  0.39351232]\n"
     ]
    },
    {
     "data": {
      "text/plain": [
       "array([97.,  1.,  1.,  1.,  0.])"
      ]
     },
     "execution_count": 29,
     "metadata": {},
     "output_type": "execute_result"
    }
   ],
   "source": [
    "initial = [0.0, 38., 29., 18., 15.] # added 0.0 for checkout\n",
    "initial = np.array(initial)\n",
    "for t in range(20):\n",
    "    initial = initial.dot(P)\n",
    "    print(t,initial)\n",
    "initial.round(0)"
   ]
  },
  {
   "cell_type": "code",
   "execution_count": null,
   "metadata": {},
   "outputs": [],
   "source": []
  },
  {
   "cell_type": "code",
   "execution_count": 25,
   "metadata": {},
   "outputs": [
    {
     "ename": "ModuleNotFoundError",
     "evalue": "No module named 'pygraphviz'",
     "output_type": "error",
     "traceback": [
      "\u001b[0;31m---------------------------------------------------------------------------\u001b[0m",
      "\u001b[0;31mModuleNotFoundError\u001b[0m                       Traceback (most recent call last)",
      "\u001b[0;32m<ipython-input-25-b67dce7344d8>\u001b[0m in \u001b[0;36m<module>\u001b[0;34m\u001b[0m\n\u001b[1;32m      1\u001b[0m \u001b[0;31m# Creating a state diagram with pygraphviz\u001b[0m\u001b[0;34m\u001b[0m\u001b[0;34m\u001b[0m\u001b[0;34m\u001b[0m\u001b[0m\n\u001b[0;32m----> 2\u001b[0;31m \u001b[0;32mimport\u001b[0m \u001b[0mpygraphviz\u001b[0m \u001b[0;32mas\u001b[0m \u001b[0mpgv\u001b[0m\u001b[0;34m\u001b[0m\u001b[0;34m\u001b[0m\u001b[0m\n\u001b[0m",
      "\u001b[0;31mModuleNotFoundError\u001b[0m: No module named 'pygraphviz'"
     ]
    }
   ],
   "source": [
    "# Creating a state diagram with pygraphviz\n",
    "import pygraphviz as pgv"
   ]
  },
  {
   "cell_type": "code",
   "execution_count": null,
   "metadata": {},
   "outputs": [],
   "source": [
    "states = ['dairy','drinks','fruit','spices','checkout']\n",
    "\n",
    "# init the graph\n",
    "G = pgv.AGraph(strict=False,directed=True)\n",
    "\n",
    "# loop over all pairs of states\n",
    "for state_from in states:\n",
    "    for state_to in states:\n",
    "        # get the transition probability\n",
    "        proba = P.loc[state_from, state_to]\n",
    "        # draw into the graph if the probability is larger zero\n",
    "        if proba > 0:\n",
    "            G.add_edge(state_from, state_to, label=np.round(proba, 2))\n",
    "\n",
    "# write the graph to hard drive            \n",
    "G.draw('transition.png', prog='dot')"
   ]
  },
  {
   "cell_type": "code",
   "execution_count": null,
   "metadata": {},
   "outputs": [],
   "source": []
  },
  {
   "cell_type": "code",
   "execution_count": 33,
   "metadata": {},
   "outputs": [],
   "source": [
    "## Writing a Customer class\n",
    "import random\n",
    "# Create a class\n",
    "\n",
    "class Customer:\n",
    "    \"\"\"\n",
    "    a single customer that moves through the supermarket\n",
    "    in a MCMC simulation\n",
    "    \"\"\"\n",
    "\n",
    "    # Write a constructor\n",
    "\n",
    "    def __init__(self, name, state, matrix, budget=100):\n",
    "        self.name = name\n",
    "        self.state = state\n",
    "        self.budget = budget\n",
    "        self.matrix = matrix\n",
    "    \n",
    "    # Include a __repr__() method\n",
    "    def __repr__(self):\n",
    "        return f'<Customer {self.name} in {self.state}>'\n",
    "\n",
    "    # Add a method\n",
    "    def next_state(self):\n",
    "        '''\n",
    "        Propagates the customer to the next state.\n",
    "        Returns nothing.\n",
    "        '''\n",
    "        self.state = random.choices(['checkout','dairy','drinks','fruit','spices'],\n",
    "                                   self.matrix.loc[self.state])\n",
    "        \n",
    "        self.state = self.state[0]\n",
    "        #if self.state != 'checkout':\n",
    "        #    self.state = random.choice(['dairy','drinks','fruit','spices','checkout'])\n",
    "        return self.state\n",
    "    "
   ]
  },
  {
   "cell_type": "code",
   "execution_count": 37,
   "metadata": {},
   "outputs": [],
   "source": [
    "# Step 2: Instantiate the class\n",
    "cust1 = Customer(\"Jake\", \"spices\", P, 50)\n",
    "cust2 = Customer(\"Margaret\", \"spices\", P)"
   ]
  },
  {
   "cell_type": "code",
   "execution_count": 38,
   "metadata": {},
   "outputs": [
    {
     "name": "stdout",
     "output_type": "stream",
     "text": [
      "Jake spices\n",
      "Margaret 100\n"
     ]
    }
   ],
   "source": [
    "# Access attributes\n",
    "print(cust1.name, cust1.state)\n",
    "print(cust2.name, cust2.budget)"
   ]
  },
  {
   "cell_type": "code",
   "execution_count": 41,
   "metadata": {},
   "outputs": [
    {
     "name": "stdout",
     "output_type": "stream",
     "text": [
      "checkout\n"
     ]
    }
   ],
   "source": [
    "cust1.next_state()\n",
    "print(cust1.state)"
   ]
  },
  {
   "cell_type": "code",
   "execution_count": null,
   "metadata": {},
   "outputs": [],
   "source": []
  },
  {
   "cell_type": "code",
   "execution_count": null,
   "metadata": {},
   "outputs": [],
   "source": []
  },
  {
   "cell_type": "markdown",
   "metadata": {},
   "source": [
    "---\n",
    "#### Old ways to get the next station"
   ]
  },
  {
   "cell_type": "code",
   "execution_count": null,
   "metadata": {},
   "outputs": [],
   "source": [
    "# define first_stations, second_stations, third_stations...\n",
    "\n",
    "first_stations = df.groupby(['weekday','customer_no']).nth(0)['location']\n",
    "second_stations = df.groupby(['weekday','customer_no']).nth(1)['location']\n",
    "third_stations = df.groupby(['weekday','customer_no']).nth(2)['location']\n",
    "\n",
    "# use second_stations, third_stations\n",
    "new_df = pd.merge(second_stations, third_stations,  \n",
    "    how='left', \n",
    "    left_on=['weekday','customer_no'], \n",
    "    right_on = ['weekday','customer_no'])\n",
    "\n",
    "new_df.fillna('checkout', inplace=True)"
   ]
  },
  {
   "cell_type": "code",
   "execution_count": null,
   "metadata": {},
   "outputs": [],
   "source": [
    "P = pd.crosstab(new_df['location_x'], new_df['location_y'], normalize='index')\n",
    "P"
   ]
  },
  {
   "cell_type": "code",
   "execution_count": null,
   "metadata": {},
   "outputs": [],
   "source": [
    "assert all(P.sum(axis=1) > 0.999)"
   ]
  },
  {
   "cell_type": "code",
   "execution_count": null,
   "metadata": {},
   "outputs": [],
   "source": [
    "# use first_stations, second_stations\n",
    "\n",
    "new_df2 = pd.merge(first_stations, second_stations,  \n",
    "    how='left', \n",
    "    left_on=['weekday','customer_no'], \n",
    "    right_on = ['weekday','customer_no'])\n",
    "\n",
    "new_df2.fillna('checkout', inplace=True)"
   ]
  },
  {
   "cell_type": "code",
   "execution_count": null,
   "metadata": {},
   "outputs": [],
   "source": [
    "#P['checkout']=[1.0, 0.0, 0.0, 0.0, 0.0]\n",
    "P2 = pd.crosstab(new_df2['location_x'], new_df2['location_y'], normalize='index')\n",
    "P2"
   ]
  },
  {
   "cell_type": "code",
   "execution_count": null,
   "metadata": {},
   "outputs": [],
   "source": [
    "P2.loc['checkout']=[1.0, 0.0, 0.0, 0.0, 0.0]\n",
    "# rearrange the row order\n",
    "P2 = P2.loc[['checkout','dairy','drinks','fruit','spices']] #[[]] a list of index values\n",
    "P2"
   ]
  },
  {
   "cell_type": "code",
   "execution_count": null,
   "metadata": {},
   "outputs": [],
   "source": [
    "## test test test"
   ]
  }
 ],
 "metadata": {
  "kernelspec": {
   "display_name": "Python 3",
   "language": "python",
   "name": "python3"
  },
  "language_info": {
   "codemirror_mode": {
    "name": "ipython",
    "version": 3
   },
   "file_extension": ".py",
   "mimetype": "text/x-python",
   "name": "python",
   "nbconvert_exporter": "python",
   "pygments_lexer": "ipython3",
   "version": "3.8.5"
  }
 },
 "nbformat": 4,
 "nbformat_minor": 4
}
